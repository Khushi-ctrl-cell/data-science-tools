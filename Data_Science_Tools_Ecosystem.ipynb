{
 "cells": [
  {
   "cell_type": "markdown",
   "id": "1a8bb7cf",
   "metadata": {},
   "source": [
    "# Data Science Tools and Ecosystem"
   ]
  },
  {
   "cell_type": "markdown",
   "id": "d9604c71",
   "metadata": {},
   "source": [
    "## Introduction\n",
    "In this notebook, we will explore the tools and languages used in data science. We'll also perform basic arithmetic operations using Python code."
   ]
  },
  {
   "cell_type": "markdown",
   "id": "7dbb0a11",
   "metadata": {},
   "source": [
    "## Data Science Languages\n",
    "Some of the popular languages that Data Scientists use are:\n",
    "1. Python\n",
    "2. R\n",
    "3. SQL\n",
    "4. Java\n",
    "5. Scala"
   ]
  },
  {
   "cell_type": "markdown",
   "id": "27c2f50a",
   "metadata": {},
   "source": [
    "## Data Science Libraries\n",
    "Some of the commonly used libraries used by Data Scientists include:\n",
    "- Pandas\n",
    "- NumPy\n",
    "- Matplotlib\n",
    "- Scikit-learn\n",
    "- TensorFlow\n",
    "- ggplot2"
   ]
  },
  {
   "cell_type": "markdown",
   "id": "0d6681b6",
   "metadata": {},
   "source": [
    "## Data Science Tools\n",
    "\n",
    "| Tool           | Type               |\n",
    "|----------------|--------------------|\n",
    "| Jupyter        | Notebook Interface |\n",
    "| RStudio        | IDE                |\n",
    "| Apache Spark   | Big Data Processing|\n",
    "| TensorFlow     | Deep Learning      |\n",
    "| Tableau        | Data Visualization |"
   ]
  },
  {
   "cell_type": "markdown",
   "id": "ff1b651f",
   "metadata": {},
   "source": [
    "## Arithmetic Expression Examples\n",
    "Below are examples of evaluating arithmetic expressions in Python."
   ]
  },
  {
   "cell_type": "code",
   "execution_count": null,
   "id": "e7d1d54c",
   "metadata": {},
   "outputs": [],
   "source": [
    "(5 * 4) + 2"
   ]
  },
  {
   "cell_type": "code",
   "execution_count": null,
   "id": "27ede323",
   "metadata": {},
   "outputs": [],
   "source": [
    "200 / 60"
   ]
  },
  {
   "cell_type": "markdown",
   "id": "0c7a07e0",
   "metadata": {},
   "source": [
    "## Objectives\n",
    "\n",
    "- List popular languages for Data Science  \n",
    "- List commonly used libraries in Data Science  \n",
    "- Create tables using markdown  \n",
    "- Perform basic arithmetic operations in code cells  \n",
    "- Convert minutes to hours using Python"
   ]
  },
  {
   "cell_type": "markdown",
   "id": "aef621ec",
   "metadata": {},
   "source": [
    "## Author\n",
    "**Khushi Khullar**"
   ]
  },
  {
   "cell_type": "markdown",
   "id": "cc6cde93",
   "metadata": {},
   "source": [
    "## GitHub Link\n",
    "[View this notebook on GitHub](https://github.com/your-username/your-repo-name)"
   ]
  }
 ],
 "metadata": {
  "language": "python"
 },
 "nbformat": 4,
 "nbformat_minor": 5
}
